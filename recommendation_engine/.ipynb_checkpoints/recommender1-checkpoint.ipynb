{
 "cells": [
  {
   "cell_type": "code",
   "execution_count": 6,
   "id": "8220c4bd-a033-45bf-b993-f66df5f9faed",
   "metadata": {},
   "outputs": [
    {
     "ename": "ModuleNotFoundError",
     "evalue": "No module named 'recommendation_engine'",
     "output_type": "error",
     "traceback": [
      "\u001b[31m---------------------------------------------------------------------------\u001b[39m",
      "\u001b[31mModuleNotFoundError\u001b[39m                       Traceback (most recent call last)",
      "\u001b[36mCell\u001b[39m\u001b[36m \u001b[39m\u001b[32mIn[6]\u001b[39m\u001b[32m, line 7\u001b[39m\n\u001b[32m      5\u001b[39m \u001b[38;5;28;01mimport\u001b[39;00m\u001b[38;5;250m \u001b[39m\u001b[34;01mtensorflow\u001b[39;00m\u001b[38;5;250m \u001b[39m\u001b[38;5;28;01mas\u001b[39;00m\u001b[38;5;250m \u001b[39m\u001b[34;01mtf\u001b[39;00m\n\u001b[32m      6\u001b[39m \u001b[38;5;28;01mimport\u001b[39;00m\u001b[38;5;250m \u001b[39m\u001b[34;01mos\u001b[39;00m\n\u001b[32m----> \u001b[39m\u001b[32m7\u001b[39m \u001b[38;5;28;01mfrom\u001b[39;00m\u001b[38;5;250m \u001b[39m\u001b[34;01mrecommendation_engine\u001b[39;00m\u001b[34;01m.\u001b[39;00m\u001b[34;01mrecommender\u001b[39;00m\u001b[38;5;250m \u001b[39m\u001b[38;5;28;01mimport\u001b[39;00m MusicRecommender\n\u001b[32m      9\u001b[39m \u001b[38;5;66;03m# --- ⚙️ Configuration ---\u001b[39;00m\n\u001b[32m     10\u001b[39m \u001b[38;5;66;03m# Paths are now direct from the project's root folder\u001b[39;00m\n\u001b[32m     11\u001b[39m MODEL_PATH = \u001b[33m'\u001b[39m\u001b[33mmodels/cnn_emotion_model.h5\u001b[39m\u001b[33m'\u001b[39m\n",
      "\u001b[31mModuleNotFoundError\u001b[39m: No module named 'recommendation_engine'"
     ]
    }
   ],
   "source": [
    "# app/main.py\n",
    "\n",
    "import cv2\n",
    "import numpy as np\n",
    "import tensorflow as tf\n",
    "import os\n",
    "\n",
    "# Because we will run from the root folder, we can import directly\n",
    "from recommendation_engine.recommender import MusicRecommender\n",
    "\n",
    "# --- ⚙️ Configuration ---\n",
    "# These paths are now correct because we run from the project root\n",
    "MODEL_PATH = 'models/cnn_emotion_model.h5'\n",
    "MUSIC_DATA_PATH = 'data/music_processed/processed_music_tags.csv'\n",
    "\n",
    "EMOTION_MAP = {\n",
    "    0: 'angry', 1: 'disgust', 2: 'fear', 3: 'happy',\n",
    "    4: 'sad', 5: 'surprise', 6: 'neutral'\n",
    "}\n",
    "\n",
    "class MoodMateApp:\n",
    "    def __init__(self, model_path, music_data_path):\n",
    "        print(\"Initializing MoodMate Application...\")\n",
    "        self.emotion_model = self._load_emotion_model(model_path)\n",
    "        self.music_recommender = MusicRecommender(music_data_path)\n",
    "\n",
    "    def _load_emotion_model(self, path):\n",
    "        try:\n",
    "            print(f\"Loading emotion model from: {os.path.abspath(path)}\")\n",
    "            model = tf.keras.models.load_model(path)\n",
    "            print(\"Emotion model loaded successfully. ✅\")\n",
    "            return model\n",
    "        except Exception as e:\n",
    "            print(f\"--- 🔴 ERROR loading emotion model ---: {e}\")\n",
    "            return None\n",
    "\n",
    "    def predict_emotion_from_image(self, image_path):\n",
    "        if self.emotion_model is None: return None\n",
    "        try:\n",
    "            img = cv2.imread(image_path, cv2.IMREAD_GRAYSCALE)\n",
    "            if img is None:\n",
    "                print(f\"--- 🔴 ERROR: Could not read image file at: {image_path}\")\n",
    "                return None\n",
    "            img = cv2.resize(img, (48, 48))\n",
    "            img = img / 255.0\n",
    "            img = np.expand_dims(img, axis=0)\n",
    "            img = np.expand_dims(img, axis=-1)\n",
    "            prediction = self.emotion_model.predict(img)\n",
    "            predicted_emotion_index = np.argmax(prediction)\n",
    "            return EMOTION_MAP[predicted_emotion_index]\n",
    "        except Exception as e:\n",
    "            print(f\"--- 🔴 ERROR processing image ---: {e}\")\n",
    "            return None\n",
    "\n",
    "    def run_full_process(self, test_image_path):\n",
    "        detected_emotion = self.predict_emotion_from_image(test_image_path)\n",
    "        if detected_emotion:\n",
    "            print(f\"\\nDetected Emotion: {detected_emotion.upper()}\")\n",
    "            playlist = self.music_recommender.recommend_songs(detected_emotion)\n",
    "            if not playlist.empty:\n",
    "                print(\"\\n--- 🎶 Here is your personalized playlist ---\")\n",
    "                print(playlist[['artist_name', 'title']])\n",
    "                print(\"------------------------------------------\")\n",
    "            else:\n",
    "                print(\"\\nCould not generate a playlist for the detected emotion.\")\n",
    "\n",
    "\n",
    "# --- ✅ Main Execution Block ---\n",
    "if __name__ == '__main__':\n",
    "    # Make sure to find a test image and update this path\n",
    "    TEST_IMAGE_PATH = 'PATH_TO_YOUR_TEST_IMAGE.jpg' \n",
    "\n",
    "    app = MoodMateApp(MODEL_PATH, MUSIC_DATA_PATH)\n",
    "    app.run_full_process(TEST_IMAGE_PATH)"
   ]
  },
  {
   "cell_type": "code",
   "execution_count": null,
   "id": "3b36a56b-c6bd-469d-aeec-8d4d39a33755",
   "metadata": {},
   "outputs": [],
   "source": []
  }
 ],
 "metadata": {
  "kernelspec": {
   "display_name": "Python 3 (ipykernel)",
   "language": "python",
   "name": "python3"
  },
  "language_info": {
   "codemirror_mode": {
    "name": "ipython",
    "version": 3
   },
   "file_extension": ".py",
   "mimetype": "text/x-python",
   "name": "python",
   "nbconvert_exporter": "python",
   "pygments_lexer": "ipython3",
   "version": "3.13.3"
  }
 },
 "nbformat": 4,
 "nbformat_minor": 5
}
