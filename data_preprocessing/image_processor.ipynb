{
 "cells": [
  {
   "cell_type": "code",
   "execution_count": 1,
   "id": "16ef4069-527a-4c3f-8003-720e187f1fde",
   "metadata": {},
   "outputs": [
    {
     "name": "stdout",
     "output_type": "stream",
     "text": [
      "Loading data from: ../data/fer2013/train\n"
     ]
    },
    {
     "name": "stderr",
     "output_type": "stream",
     "text": [
      "Processing emotions: 100%|███████████████████████████████████████████████████████████████| 7/7 [06:41<00:00, 57.34s/it]\n"
     ]
    },
    {
     "name": "stdout",
     "output_type": "stream",
     "text": [
      "Loading data from: ../data/fer2013/test\n"
     ]
    },
    {
     "name": "stderr",
     "output_type": "stream",
     "text": [
      "Processing emotions: 100%|███████████████████████████████████████████████████████████████| 7/7 [01:52<00:00, 16.00s/it]\n"
     ]
    },
    {
     "name": "stdout",
     "output_type": "stream",
     "text": [
      "\n",
      "Converting lists to NumPy arrays and normalizing data...\n",
      "Saving processed data to ../data/fer2013_processed/...\n",
      "\n",
      "--- Preprocessing Complete ---\n",
      "Training data shape: (28709, 48, 48, 1)\n",
      "Training labels shape: (28709,)\n",
      "Validation data shape: (7178, 48, 48, 1)\n",
      "Validation labels shape: (7178,)\n",
      "----------------------------\n"
     ]
    }
   ],
   "source": [
    "import os\n",
    "import cv2  # OpenCV library for image processing\n",
    "import numpy as np\n",
    "from tqdm import tqdm\n",
    "\n",
    "# --- Configuration ---\n",
    "# Path to the base directory of the extracted dataset\n",
    "BASE_DATA_DIR = '../data/fer2013/'\n",
    "\n",
    "# Directory where the processed NumPy arrays will be saved\n",
    "OUTPUT_DIR = '../data/fer2013_processed/'\n",
    "\n",
    "# Image dimensions for the model\n",
    "IMG_WIDTH = 48\n",
    "IMG_HEIGHT = 48\n",
    "\n",
    "# Mapping folder names to integer labels for the model\n",
    "EMOTION_MAP = {\n",
    "    'angry': 0,\n",
    "    'disgust': 1,\n",
    "    'fear': 2,\n",
    "    'happy': 3,\n",
    "    'sad': 4,\n",
    "    'surprise': 5,\n",
    "    'neutral': 6\n",
    "}\n",
    "\n",
    "def load_data_from_directory(directory_path):\n",
    "    \"\"\"\n",
    "    Loads images and labels from a directory structured with emotion subfolders.\n",
    "    \n",
    "    Args:\n",
    "        directory_path (str): Path to the directory (e.g., '../data/fer2013/train').\n",
    "\n",
    "    Returns:\n",
    "        tuple: A tuple containing two lists: images and labels.\n",
    "    \"\"\"\n",
    "    images = []\n",
    "    labels = []\n",
    "    \n",
    "    print(f\"Loading data from: {directory_path}\")\n",
    "    # Loop through each emotion folder (e.g., 'happy', 'sad')\n",
    "    for emotion_name, label in tqdm(EMOTION_MAP.items(), desc=\"Processing emotions\"):\n",
    "        emotion_folder_path = os.path.join(directory_path, emotion_name)\n",
    "\n",
    "        # Check if the folder exists\n",
    "        if not os.path.isdir(emotion_folder_path):\n",
    "            continue\n",
    "\n",
    "        # Loop through each image file in the emotion folder\n",
    "        for image_name in os.listdir(emotion_folder_path):\n",
    "            image_path = os.path.join(emotion_folder_path, image_name)\n",
    "            \n",
    "            # Read the image in grayscale format\n",
    "            image = cv2.imread(image_path, cv2.IMREAD_GRAYSCALE)\n",
    "            \n",
    "            # Ensure the image was loaded correctly\n",
    "            if image is not None:\n",
    "                # Resize to ensure uniform dimensions\n",
    "                image = cv2.resize(image, (IMG_WIDTH, IMG_HEIGHT))\n",
    "                images.append(image)\n",
    "                labels.append(label)\n",
    "                \n",
    "    return images, labels\n",
    "\n",
    "def process_images_from_folders():\n",
    "    \"\"\"\n",
    "    Main function to process training and testing images from folders,\n",
    "    normalize them, and save as NumPy arrays.\n",
    "    \"\"\"\n",
    "    # Load training data\n",
    "    train_path = os.path.join(BASE_DATA_DIR, 'train')\n",
    "    X_train, y_train = load_data_from_directory(train_path)\n",
    "\n",
    "    # Load validation/testing data\n",
    "    val_path = os.path.join(BASE_DATA_DIR, 'test')\n",
    "    X_val, y_val = load_data_from_directory(val_path)\n",
    "\n",
    "    print(\"\\nConverting lists to NumPy arrays and normalizing data...\")\n",
    "    # Convert lists to NumPy arrays and normalize pixel values (0-1 range)\n",
    "    X_train = np.array(X_train, 'float32') / 255.0\n",
    "    y_train = np.array(y_train)\n",
    "    \n",
    "    X_val = np.array(X_val, 'float32') / 255.0\n",
    "    y_val = np.array(y_val)\n",
    "\n",
    "    # Add the channel dimension for the CNN (48, 48) -> (48, 48, 1)\n",
    "    X_train = np.expand_dims(X_train, -1)\n",
    "    X_val = np.expand_dims(X_val, -1)\n",
    "\n",
    "    # Create the output directory if it doesn't exist\n",
    "    if not os.path.exists(OUTPUT_DIR):\n",
    "        os.makedirs(OUTPUT_DIR)\n",
    "        print(f\"Created directory: {OUTPUT_DIR}\")\n",
    "\n",
    "    # Save the processed data\n",
    "    print(f\"Saving processed data to {OUTPUT_DIR}...\")\n",
    "    np.save(os.path.join(OUTPUT_DIR, 'X_train.npy'), X_train)\n",
    "    np.save(os.path.join(OUTPUT_DIR, 'y_train.npy'), y_train)\n",
    "    np.save(os.path.join(OUTPUT_DIR, 'X_val.npy'), X_val)\n",
    "    np.save(os.path.join(OUTPUT_DIR, 'y_val.npy'), y_val) \n",
    "\n",
    "    print(\"\\n--- Preprocessing Complete ---\")\n",
    "    print(f\"Training data shape: {X_train.shape}\")\n",
    "    print(f\"Training labels shape: {y_train.shape}\")\n",
    "    print(f\"Validation data shape: {X_val.shape}\")\n",
    "    print(f\"Validation labels shape: {y_val.shape}\")\n",
    "    print(\"----------------------------\")\n",
    "\n",
    "if __name__ == '__main__':\n",
    "    process_images_from_folders()"
   ]
  },
  {
   "cell_type": "code",
   "execution_count": null,
   "id": "d8df9619-7048-4019-be1d-a13a8d821602",
   "metadata": {},
   "outputs": [],
   "source": []
  },
  {
   "cell_type": "code",
   "execution_count": null,
   "id": "5ddae246-bcfd-4536-9884-ea7a7be688a1",
   "metadata": {},
   "outputs": [],
   "source": []
  }
 ],
 "metadata": {
  "kernelspec": {
   "display_name": "Python 3 (ipykernel)",
   "language": "python",
   "name": "python3"
  },
  "language_info": {
   "codemirror_mode": {
    "name": "ipython",
    "version": 3
   },
   "file_extension": ".py",
   "mimetype": "text/x-python",
   "name": "python",
   "nbconvert_exporter": "python",
   "pygments_lexer": "ipython3",
   "version": "3.13.3"
  }
 },
 "nbformat": 4,
 "nbformat_minor": 5
}
