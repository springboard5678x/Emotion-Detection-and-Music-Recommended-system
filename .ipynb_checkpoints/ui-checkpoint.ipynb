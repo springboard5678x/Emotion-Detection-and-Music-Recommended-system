{
 "cells": [
  {
   "cell_type": "code",
   "execution_count": 1,
   "id": "c4605965-20aa-49fa-b823-7b1a76212a02",
   "metadata": {},
   "outputs": [
    {
     "name": "stderr",
     "output_type": "stream",
     "text": [
      "C:\\Users\\SURYA PRATAP DASH\\AppData\\Local\\Programs\\Python\\Python313\\Lib\\site-packages\\google\\protobuf\\runtime_version.py:98: UserWarning: Protobuf gencode version 5.28.3 is exactly one major version older than the runtime version 6.31.1 at tensorflow/core/framework/attr_value.proto. Please update the gencode to avoid compatibility violations in the next runtime release.\n",
      "  warnings.warn(\n",
      "C:\\Users\\SURYA PRATAP DASH\\AppData\\Local\\Programs\\Python\\Python313\\Lib\\site-packages\\google\\protobuf\\runtime_version.py:98: UserWarning: Protobuf gencode version 5.28.3 is exactly one major version older than the runtime version 6.31.1 at tensorflow/core/framework/tensor.proto. Please update the gencode to avoid compatibility violations in the next runtime release.\n",
      "  warnings.warn(\n",
      "C:\\Users\\SURYA PRATAP DASH\\AppData\\Local\\Programs\\Python\\Python313\\Lib\\site-packages\\google\\protobuf\\runtime_version.py:98: UserWarning: Protobuf gencode version 5.28.3 is exactly one major version older than the runtime version 6.31.1 at tensorflow/core/framework/resource_handle.proto. Please update the gencode to avoid compatibility violations in the next runtime release.\n",
      "  warnings.warn(\n",
      "C:\\Users\\SURYA PRATAP DASH\\AppData\\Local\\Programs\\Python\\Python313\\Lib\\site-packages\\google\\protobuf\\runtime_version.py:98: UserWarning: Protobuf gencode version 5.28.3 is exactly one major version older than the runtime version 6.31.1 at tensorflow/core/framework/tensor_shape.proto. Please update the gencode to avoid compatibility violations in the next runtime release.\n",
      "  warnings.warn(\n",
      "C:\\Users\\SURYA PRATAP DASH\\AppData\\Local\\Programs\\Python\\Python313\\Lib\\site-packages\\google\\protobuf\\runtime_version.py:98: UserWarning: Protobuf gencode version 5.28.3 is exactly one major version older than the runtime version 6.31.1 at tensorflow/core/framework/types.proto. Please update the gencode to avoid compatibility violations in the next runtime release.\n",
      "  warnings.warn(\n",
      "C:\\Users\\SURYA PRATAP DASH\\AppData\\Local\\Programs\\Python\\Python313\\Lib\\site-packages\\google\\protobuf\\runtime_version.py:98: UserWarning: Protobuf gencode version 5.28.3 is exactly one major version older than the runtime version 6.31.1 at tensorflow/core/framework/full_type.proto. Please update the gencode to avoid compatibility violations in the next runtime release.\n",
      "  warnings.warn(\n",
      "C:\\Users\\SURYA PRATAP DASH\\AppData\\Local\\Programs\\Python\\Python313\\Lib\\site-packages\\google\\protobuf\\runtime_version.py:98: UserWarning: Protobuf gencode version 5.28.3 is exactly one major version older than the runtime version 6.31.1 at tensorflow/core/framework/function.proto. Please update the gencode to avoid compatibility violations in the next runtime release.\n",
      "  warnings.warn(\n",
      "C:\\Users\\SURYA PRATAP DASH\\AppData\\Local\\Programs\\Python\\Python313\\Lib\\site-packages\\google\\protobuf\\runtime_version.py:98: UserWarning: Protobuf gencode version 5.28.3 is exactly one major version older than the runtime version 6.31.1 at tensorflow/core/framework/node_def.proto. Please update the gencode to avoid compatibility violations in the next runtime release.\n",
      "  warnings.warn(\n",
      "C:\\Users\\SURYA PRATAP DASH\\AppData\\Local\\Programs\\Python\\Python313\\Lib\\site-packages\\google\\protobuf\\runtime_version.py:98: UserWarning: Protobuf gencode version 5.28.3 is exactly one major version older than the runtime version 6.31.1 at tensorflow/core/framework/op_def.proto. Please update the gencode to avoid compatibility violations in the next runtime release.\n",
      "  warnings.warn(\n",
      "C:\\Users\\SURYA PRATAP DASH\\AppData\\Local\\Programs\\Python\\Python313\\Lib\\site-packages\\google\\protobuf\\runtime_version.py:98: UserWarning: Protobuf gencode version 5.28.3 is exactly one major version older than the runtime version 6.31.1 at tensorflow/core/framework/graph.proto. Please update the gencode to avoid compatibility violations in the next runtime release.\n",
      "  warnings.warn(\n",
      "C:\\Users\\SURYA PRATAP DASH\\AppData\\Local\\Programs\\Python\\Python313\\Lib\\site-packages\\google\\protobuf\\runtime_version.py:98: UserWarning: Protobuf gencode version 5.28.3 is exactly one major version older than the runtime version 6.31.1 at tensorflow/core/framework/graph_debug_info.proto. Please update the gencode to avoid compatibility violations in the next runtime release.\n",
      "  warnings.warn(\n",
      "C:\\Users\\SURYA PRATAP DASH\\AppData\\Local\\Programs\\Python\\Python313\\Lib\\site-packages\\google\\protobuf\\runtime_version.py:98: UserWarning: Protobuf gencode version 5.28.3 is exactly one major version older than the runtime version 6.31.1 at tensorflow/core/framework/versions.proto. Please update the gencode to avoid compatibility violations in the next runtime release.\n",
      "  warnings.warn(\n",
      "C:\\Users\\SURYA PRATAP DASH\\AppData\\Local\\Programs\\Python\\Python313\\Lib\\site-packages\\google\\protobuf\\runtime_version.py:98: UserWarning: Protobuf gencode version 5.28.3 is exactly one major version older than the runtime version 6.31.1 at tensorflow/core/protobuf/config.proto. Please update the gencode to avoid compatibility violations in the next runtime release.\n",
      "  warnings.warn(\n",
      "C:\\Users\\SURYA PRATAP DASH\\AppData\\Local\\Programs\\Python\\Python313\\Lib\\site-packages\\google\\protobuf\\runtime_version.py:98: UserWarning: Protobuf gencode version 5.28.3 is exactly one major version older than the runtime version 6.31.1 at xla/tsl/protobuf/coordination_config.proto. Please update the gencode to avoid compatibility violations in the next runtime release.\n",
      "  warnings.warn(\n",
      "C:\\Users\\SURYA PRATAP DASH\\AppData\\Local\\Programs\\Python\\Python313\\Lib\\site-packages\\google\\protobuf\\runtime_version.py:98: UserWarning: Protobuf gencode version 5.28.3 is exactly one major version older than the runtime version 6.31.1 at tensorflow/core/framework/cost_graph.proto. Please update the gencode to avoid compatibility violations in the next runtime release.\n",
      "  warnings.warn(\n",
      "C:\\Users\\SURYA PRATAP DASH\\AppData\\Local\\Programs\\Python\\Python313\\Lib\\site-packages\\google\\protobuf\\runtime_version.py:98: UserWarning: Protobuf gencode version 5.28.3 is exactly one major version older than the runtime version 6.31.1 at tensorflow/core/framework/step_stats.proto. Please update the gencode to avoid compatibility violations in the next runtime release.\n",
      "  warnings.warn(\n",
      "C:\\Users\\SURYA PRATAP DASH\\AppData\\Local\\Programs\\Python\\Python313\\Lib\\site-packages\\google\\protobuf\\runtime_version.py:98: UserWarning: Protobuf gencode version 5.28.3 is exactly one major version older than the runtime version 6.31.1 at tensorflow/core/framework/allocation_description.proto. Please update the gencode to avoid compatibility violations in the next runtime release.\n",
      "  warnings.warn(\n",
      "C:\\Users\\SURYA PRATAP DASH\\AppData\\Local\\Programs\\Python\\Python313\\Lib\\site-packages\\google\\protobuf\\runtime_version.py:98: UserWarning: Protobuf gencode version 5.28.3 is exactly one major version older than the runtime version 6.31.1 at tensorflow/core/framework/tensor_description.proto. Please update the gencode to avoid compatibility violations in the next runtime release.\n",
      "  warnings.warn(\n",
      "C:\\Users\\SURYA PRATAP DASH\\AppData\\Local\\Programs\\Python\\Python313\\Lib\\site-packages\\google\\protobuf\\runtime_version.py:98: UserWarning: Protobuf gencode version 5.28.3 is exactly one major version older than the runtime version 6.31.1 at tensorflow/core/protobuf/cluster.proto. Please update the gencode to avoid compatibility violations in the next runtime release.\n",
      "  warnings.warn(\n",
      "C:\\Users\\SURYA PRATAP DASH\\AppData\\Local\\Programs\\Python\\Python313\\Lib\\site-packages\\google\\protobuf\\runtime_version.py:98: UserWarning: Protobuf gencode version 5.28.3 is exactly one major version older than the runtime version 6.31.1 at tensorflow/core/protobuf/debug.proto. Please update the gencode to avoid compatibility violations in the next runtime release.\n",
      "  warnings.warn(\n"
     ]
    },
    {
     "name": "stdout",
     "output_type": "stream",
     "text": [
      "--- Initializing MoodMate ---\n"
     ]
    },
    {
     "name": "stderr",
     "output_type": "stream",
     "text": [
      "WARNING:absl:Compiled the loaded model, but the compiled metrics have yet to be built. `model.compile_metrics` will be empty until you train or evaluate the model.\n"
     ]
    },
    {
     "name": "stdout",
     "output_type": "stream",
     "text": [
      "✅ Emotion model loaded successfully from 'models/cnn_emotion_model.h5'.\n",
      "✅ Music Recommender initialized.\n",
      "\n",
      "--- MoodMate Interactive UI ---\n",
      "Upload an image of a face to get started.\n"
     ]
    },
    {
     "data": {
      "application/vnd.jupyter.widget-view+json": {
       "model_id": "b601883d928c4c7092c4fa1d5169b294",
       "version_major": 2,
       "version_minor": 0
      },
      "text/plain": [
       "FileUpload(value=(), accept='image/*', button_style='primary', description='Upload Image')"
      ]
     },
     "metadata": {},
     "output_type": "display_data"
    },
    {
     "data": {
      "application/vnd.jupyter.widget-view+json": {
       "model_id": "5230a789f2dd4e60bc28133b17ae768c",
       "version_major": 2,
       "version_minor": 0
      },
      "text/plain": [
       "Output()"
      ]
     },
     "metadata": {},
     "output_type": "display_data"
    }
   ],
   "source": [
    "\n",
    "import os\n",
    "import cv2\n",
    "import numpy as np\n",
    "import pandas as pd\n",
    "import tensorflow as tf\n",
    "from sklearn.feature_extraction.text import TfidfVectorizer\n",
    "from sklearn.metrics.pairwise import cosine_similarity\n",
    "import ipywidgets as widgets\n",
    "from IPython.display import display, clear_output\n",
    "import io\n",
    "from PIL import Image\n",
    "import traceback\n",
    "\n",
    "print(\"--- Initializing MoodMate ---\")\n",
    "\n",
    "# --- Step 2: Define the MusicRecommender Class ---\n",
    "class MusicRecommender:\n",
    "    def __init__(self, data_path):\n",
    "        self.emotion_to_music_map = {\n",
    "            'happy': 'upbeat happy energetic dance pop joy', 'sad': 'sad mellow slow acoustic blues classical instrumental',\n",
    "            'angry': 'angry rock metal intense heavy punk industrial', 'fear': 'ambient experimental instrumental calm classical soothing',\n",
    "            'surprise': 'electronic pop dance energetic new wave synthpop', 'neutral': 'lounge chill instrumental ambient pop easy listening',\n",
    "            'disgust': 'industrial metal experimental rock'\n",
    "        }\n",
    "        self.df = self._load_data(data_path)\n",
    "        if not self.df.empty:\n",
    "            self.tfidf_vectorizer = TfidfVectorizer(stop_words='english')\n",
    "            self.tfidf_matrix = self.tfidf_vectorizer.fit_transform(self.df['tags'])\n",
    "            print(\" Music Recommender initialized.\")\n",
    "\n",
    "    def _load_data(self, data_path):\n",
    "        if not os.path.exists(data_path):\n",
    "            print(f\" ERROR: Music data not found at '{data_path}'. Please check your project structure.\")\n",
    "            return pd.DataFrame()\n",
    "        return pd.read_csv(data_path)\n",
    "\n",
    "    def recommend_songs(self, emotion, num_recommendations=10):\n",
    "        if self.df.empty: return pd.DataFrame()\n",
    "        query_tags = self.emotion_to_music_map.get(emotion.lower())\n",
    "        if not query_tags: return pd.DataFrame()\n",
    "        query_vector = self.tfidf_vectorizer.transform([query_tags])\n",
    "        cosine_similarities = cosine_similarity(query_vector, self.tfidf_matrix).flatten()\n",
    "        top_song_indices = cosine_similarities.argsort()[:-num_recommendations-1:-1]\n",
    "        return self.df.iloc[top_song_indices][['artist_name', 'title']]\n",
    "\n",
    "# --- Step 3: Configuration and Model Loading ---\n",
    "\n",
    "MODEL_PATH = 'models/cnn_emotion_model.h5' # Or: 'models/vgg16_emotion_model_50_epochs.h5'\n",
    "MUSIC_DATA_PATH = 'data/music_processed/processed_music_tags.csv'\n",
    "EMOTION_MAP = {0: 'angry', 1: 'disgust', 2: 'fear', 3: 'happy', 4: 'sad', 5: 'surprise', 6: 'neutral'}\n",
    "\n",
    "try:\n",
    "    emotion_model = tf.keras.models.load_model(MODEL_PATH)\n",
    "    print(f\"✅ Emotion model loaded successfully from '{MODEL_PATH}'.\")\n",
    "except Exception as e:\n",
    "    print(f\"🔴 FATAL ERROR: Could not load the emotion model from '{MODEL_PATH}'.\")\n",
    "    print(\"Please ensure your notebook is in the main project folder and the path is correct.\")\n",
    "    emotion_model = None\n",
    "    \n",
    "music_recommender = MusicRecommender(MUSIC_DATA_PATH)\n",
    "\n",
    "# --- Step 4: Define the Prediction Function ---\n",
    "def predict_emotion_from_image_bytes(image_bytes, model):\n",
    "    if model is None:\n",
    "        print(\"🔴 ERROR: Emotion model is not loaded. Cannot predict.\")\n",
    "        return None\n",
    "    try:\n",
    "        if isinstance(image_bytes, str): image_bytes = image_bytes.encode('utf-8')\n",
    "        nparr = np.frombuffer(image_bytes, np.uint8)\n",
    "        img = cv2.imdecode(nparr, cv2.IMREAD_GRAYSCALE)\n",
    "        if img is None:\n",
    "            print(\"🔴 ERROR: OpenCV could not decode the image.\")\n",
    "            return None\n",
    "        if model.input_shape[-1] == 3: img = cv2.cvtColor(img, cv2.COLOR_GRAY2RGB)\n",
    "        img_resized = cv2.resize(img, (48, 48))\n",
    "        img_normalized = img_resized / 255.0\n",
    "        img_expanded = np.expand_dims(img_normalized, axis=0)\n",
    "        if len(img_expanded.shape) < 4 and model.input_shape[-1] == 1: img_expanded = np.expand_dims(img_expanded, axis=-1)\n",
    "        prediction = model.predict(img_expanded, verbose=0)\n",
    "        return EMOTION_MAP[np.argmax(prediction)]\n",
    "    except Exception as e:\n",
    "        print(f\"🔴 An unexpected error occurred during prediction: {e}\")\n",
    "        traceback.print_exc()\n",
    "        return None\n",
    "\n",
    "# --- Step 5: Create and Display the Interactive UI ---\n",
    "uploader = widgets.FileUpload(accept='image/*', description='Upload Image', button_style='primary')\n",
    "output_area = widgets.Output()\n",
    "\n",
    "def on_file_upload(change):\n",
    "    with output_area:\n",
    "        clear_output(wait=True)\n",
    "        uploaded_file = change['new']\n",
    "        if not uploaded_file: return\n",
    "        file_info = uploaded_file[0]\n",
    "        image_bytes = file_info['content']\n",
    "        \n",
    "        print(\"--- Analyzing New Image ---\")\n",
    "        display(Image.open(io.BytesIO(image_bytes)))\n",
    "        \n",
    "        detected_emotion = predict_emotion_from_image_bytes(image_bytes, emotion_model)\n",
    "        \n",
    "        if detected_emotion:\n",
    "            print(f\"\\n Detected Emotion: {detected_emotion.upper()}\")\n",
    "            playlist = music_recommender.recommend_songs(detected_emotion)\n",
    "            if not playlist.empty:\n",
    "                print(\"\\n--- 🎶 Here is your personalized playlist ---\")\n",
    "                display(playlist)\n",
    "\n",
    "                # --- NEW ANALYSIS SECTION ---\n",
    "                print(\"\\n--- How This Playlist Was Chosen ---\")\n",
    "                emotion_keywords = music_recommender.emotion_to_music_map.get(detected_emotion, \"\")\n",
    "                print(f\"1. Emotion Detected: The AI model analyzed the image and identified the emotion as '{detected_emotion}'.\")\n",
    "                print(f\"2. Keyword Mapping: This emotion was then translated into a set of musical keywords: '{emotion_keywords}'.\")\n",
    "                print(\"3. Song Matching: Finally, the system searched a library of songs to find the ones whose tags most closely matched these keywords.\")\n",
    "\n",
    "        else:\n",
    "            print(\"\\n Could not detect an emotion. Please check the error messages above.\")\n",
    "\n",
    "uploader.observe(on_file_upload, names='value')\n",
    "\n",
    "print(\"\\n--- MoodMate Interactive UI ---\")\n",
    "print(\"Upload an image of a face to get started.\")\n",
    "display(uploader, output_area)"
   ]
  },
  {
   "cell_type": "code",
   "execution_count": null,
   "id": "d6edc42a-cc76-411c-8993-c3996eb9c434",
   "metadata": {},
   "outputs": [],
   "source": []
  }
 ],
 "metadata": {
  "kernelspec": {
   "display_name": "Python 3 (ipykernel)",
   "language": "python",
   "name": "python3"
  },
  "language_info": {
   "codemirror_mode": {
    "name": "ipython",
    "version": 3
   },
   "file_extension": ".py",
   "mimetype": "text/x-python",
   "name": "python",
   "nbconvert_exporter": "python",
   "pygments_lexer": "ipython3",
   "version": "3.13.3"
  }
 },
 "nbformat": 4,
 "nbformat_minor": 5
}
