{
 "cells": [
  {
   "cell_type": "code",
   "execution_count": 8,
   "id": "e704f9b1-d6d2-4392-924d-8937d247ec31",
   "metadata": {},
   "outputs": [
    {
     "ename": "ModuleNotFoundError",
     "evalue": "No module named 'recommendation_engine'",
     "output_type": "error",
     "traceback": [
      "\u001b[31m---------------------------------------------------------------------------\u001b[39m",
      "\u001b[31mModuleNotFoundError\u001b[39m                       Traceback (most recent call last)",
      "\u001b[36mCell\u001b[39m\u001b[36m \u001b[39m\u001b[32mIn[8]\u001b[39m\u001b[32m, line 10\u001b[39m\n\u001b[32m      8\u001b[39m \u001b[38;5;28;01mimport\u001b[39;00m\u001b[38;5;250m \u001b[39m\u001b[34;01mnumpy\u001b[39;00m\u001b[38;5;250m \u001b[39m\u001b[38;5;28;01mas\u001b[39;00m\u001b[38;5;250m \u001b[39m\u001b[34;01mnp\u001b[39;00m\n\u001b[32m      9\u001b[39m \u001b[38;5;28;01mimport\u001b[39;00m\u001b[38;5;250m \u001b[39m\u001b[34;01mtensorflow\u001b[39;00m\u001b[38;5;250m \u001b[39m\u001b[38;5;28;01mas\u001b[39;00m\u001b[38;5;250m \u001b[39m\u001b[34;01mtf\u001b[39;00m\n\u001b[32m---> \u001b[39m\u001b[32m10\u001b[39m \u001b[38;5;28;01mfrom\u001b[39;00m\u001b[38;5;250m \u001b[39m\u001b[34;01mrecommendation_engine\u001b[39;00m\u001b[34;01m.\u001b[39;00m\u001b[34;01mrecommender\u001b[39;00m\u001b[38;5;250m \u001b[39m\u001b[38;5;28;01mimport\u001b[39;00m MusicRecommender\n\u001b[32m     12\u001b[39m \u001b[38;5;66;03m# --- Configuration ---\u001b[39;00m\n\u001b[32m     13\u001b[39m \u001b[38;5;66;03m# These paths are now relative to the app/ folder, which is where the script is.\u001b[39;00m\n\u001b[32m     14\u001b[39m MODEL_PATH = \u001b[33m'\u001b[39m\u001b[33m../models/cnn_emotion_model.h5\u001b[39m\u001b[33m'\u001b[39m\n",
      "\u001b[31mModuleNotFoundError\u001b[39m: No module named 'recommendation_engine'"
     ]
    }
   ],
   "source": [
    "import sys\n",
    "import os\n",
    "\n",
    "# This is the fix. It explicitly adds the current directory (your project root)\n",
    "# to the list of places Python looks for modules.\n",
    "sys.path.append(os.path.abspath('..'))\n",
    "\n",
    "import cv2\n",
    "import numpy as np\n",
    "import tensorflow as tf\n",
    "from recommendation_engine.recommender import MusicRecommender\n",
    "\n",
    "# --- Configuration ---\n",
    "# These paths are now relative to the app/ folder, which is where the script is.\n",
    "MODEL_PATH = '../models/cnn_emotion_model.h5'\n",
    "MUSIC_DATA_PATH = '../data/music_processed/processed_music_tags.csv'\n",
    "\n",
    "EMOTION_MAP = {\n",
    "    0: 'angry', 1: 'disgust', 2: 'fear', 3: 'happy',\n",
    "    4: 'sad', 5: 'surprise', 6: 'neutral'\n",
    "}\n",
    "\n",
    "class MoodMateApp:\n",
    "    def __init__(self, model_path, music_data_path):\n",
    "        self.emotion_model = self._load_emotion_model(model_path)\n",
    "        self.music_recommender = MusicRecommender(music_data_path)\n",
    "\n",
    "    def _load_emotion_model(self, path):\n",
    "        try:\n",
    "            print(\"load_emotion_model started successfull\")\n",
    "            model = tf.keras.models.load_model(path)\n",
    "            print(\"Emotion model loaded successfully. ✅\")\n",
    "            return model\n",
    "        except Exception as e:\n",
    "            print(f\"--- 🔴 ERROR loading model ---: {e}\")\n",
    "            return None\n",
    "\n",
    "    def predict_emotion_from_image(self, image_path):\n",
    "        if self.emotion_model is None: return None\n",
    "        img = cv2.imread(image_path, cv2.IMREAD_GRAYSCALE)\n",
    "        if img is None: return None\n",
    "        img = cv2.resize(img, (48, 48))\n",
    "        img = img / 255.0\n",
    "        img = np.expand_dims(img, axis=0)\n",
    "        img = np.expand_dims(img, axis=-1)\n",
    "        prediction = self.emotion_model.predict(img)\n",
    "        return EMOTION_MAP[np.argmax(prediction)]\n",
    "\n",
    "    def run_full_process(self, test_image_path):\n",
    "        print(\"run_full_process started successfull\")\n",
    "        detected_emotion = self.predict_emotion_from_image(test_image_path)\n",
    "        if detected_emotion:\n",
    "            print(f\"\\nDetected Emotion: {detected_emotion.upper()}\")\n",
    "            playlist = self.music_recommender.recommend_songs(detected_emotion)\n",
    "            if not playlist.empty:\n",
    "                print(\"\\n--- 🎶 Here is your personalized playlist ---\")\n",
    "                print(playlist[['artist_name', 'title']])\n",
    "                print(\"------------------------------------------\")\n",
    "\n",
    "if __name__ == '__main__':\n",
    "    # Update this path with a real image file to test the system\n",
    "    TEST_IMAGE_PATH = 'E:/Infosys Springboard Project/Emotion Detection and Music Recommendation System/data/fer2013/test/sad/PrivateTest_366361.jpg' \n",
    "\n",
    "    app = MoodMateApp(MODEL_PATH, MUSIC_DATA_PATH)\n",
    "    app.run_full_process(TEST_IMAGE_PATH)"
   ]
  },
  {
   "cell_type": "code",
   "execution_count": null,
   "id": "aab5fa54-4965-4890-9db0-898d844e1169",
   "metadata": {},
   "outputs": [],
   "source": []
  },
  {
   "cell_type": "code",
   "execution_count": null,
   "id": "88c7b8b7-a16f-451e-8822-63587704c850",
   "metadata": {},
   "outputs": [],
   "source": []
  }
 ],
 "metadata": {
  "kernelspec": {
   "display_name": "Python 3 (ipykernel)",
   "language": "python",
   "name": "python3"
  },
  "language_info": {
   "codemirror_mode": {
    "name": "ipython",
    "version": 3
   },
   "file_extension": ".py",
   "mimetype": "text/x-python",
   "name": "python",
   "nbconvert_exporter": "python",
   "pygments_lexer": "ipython3",
   "version": "3.13.3"
  }
 },
 "nbformat": 4,
 "nbformat_minor": 5
}
