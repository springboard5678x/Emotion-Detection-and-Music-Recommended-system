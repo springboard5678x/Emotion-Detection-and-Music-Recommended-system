{
 "cells": [
  {
   "cell_type": "code",
   "execution_count": 9,
   "id": "e704f9b1-d6d2-4392-924d-8937d247ec31",
   "metadata": {},
   "outputs": [
    {
     "name": "stdout",
     "output_type": "stream",
     "text": [
      "load_emotion_model started successfull\n"
     ]
    },
    {
     "name": "stderr",
     "output_type": "stream",
     "text": [
      "WARNING:absl:Compiled the loaded model, but the compiled metrics have yet to be built. `model.compile_metrics` will be empty until you train or evaluate the model.\n"
     ]
    },
    {
     "name": "stdout",
     "output_type": "stream",
     "text": [
      "Emotion model loaded successfully. ✅\n",
      "Initializing Music Recommender...\n",
      "Recommender initialized successfully. ✅\n",
      "run_full_process started successfull\n",
      "\u001b[1m1/1\u001b[0m \u001b[32m━━━━━━━━━━━━━━━━━━━━\u001b[0m\u001b[37m\u001b[0m \u001b[1m1s\u001b[0m 558ms/step\n",
      "\n",
      "Detected Emotion: NEUTRAL\n",
      "\n",
      "--- 🎶 Here is your personalized playlist ---\n",
      "                 artist_name                  title\n",
      "10515            KT Tunstall         Little Favours\n",
      "19982              Logistics  Back Where We Started\n",
      "2934          Sara Bareilles         One Sweet Love\n",
      "374    Red Hot Chili Peppers              Porcelain\n",
      "7200                     Sia          Electric Bird\n",
      "2936                    Dido           All You Want\n",
      "21503          Joni Mitchell   Ladies of the Canyon\n",
      "21842         Thomas Dybdahl         All's Not Lost\n",
      "2937        Emilíana Torrini             Sunny Road\n",
      "2070        Au Revoir Simone            Stay Golden\n",
      "------------------------------------------\n"
     ]
    }
   ],
   "source": [
    "import sys\n",
    "import os\n",
    "\n",
    "# This is the fix. It explicitly adds the current directory (your project root)\n",
    "# to the list of places Python looks for modules.\n",
    "sys.path.append(os.path.abspath('..'))\n",
    "\n",
    "import cv2\n",
    "import numpy as np\n",
    "import tensorflow as tf\n",
    "from recommendation_engine.recommender import MusicRecommender\n",
    "\n",
    "# --- Configuration ---\n",
    "# These paths are now relative to the app/ folder, which is where the script is.\n",
    "MODEL_PATH = '../models/cnn_emotion_model.h5'\n",
    "MUSIC_DATA_PATH = '../data/music_processed/processed_music_tags.csv'\n",
    "\n",
    "EMOTION_MAP = {\n",
    "    0: 'angry', 1: 'disgust', 2: 'fear', 3: 'happy',\n",
    "    4: 'sad', 5: 'surprise', 6: 'neutral'\n",
    "}\n",
    "\n",
    "class MoodMateApp:\n",
    "    def __init__(self, model_path, music_data_path):\n",
    "        self.emotion_model = self._load_emotion_model(model_path)\n",
    "        self.music_recommender = MusicRecommender(music_data_path)\n",
    "\n",
    "    def _load_emotion_model(self, path):\n",
    "        try:\n",
    "            print(\"load_emotion_model started successfull\")\n",
    "            model = tf.keras.models.load_model(path)\n",
    "            print(\"Emotion model loaded successfully. ✅\")\n",
    "            return model\n",
    "        except Exception as e:\n",
    "            print(f\"--- 🔴 ERROR loading model ---: {e}\")\n",
    "            return None\n",
    "\n",
    "    def predict_emotion_from_image(self, image_path):\n",
    "        if self.emotion_model is None: return None\n",
    "        img = cv2.imread(image_path, cv2.IMREAD_GRAYSCALE)\n",
    "        if img is None: return None\n",
    "        img = cv2.resize(img, (48, 48))\n",
    "        img = img / 255.0\n",
    "        img = np.expand_dims(img, axis=0)\n",
    "        img = np.expand_dims(img, axis=-1)\n",
    "        prediction = self.emotion_model.predict(img)\n",
    "        return EMOTION_MAP[np.argmax(prediction)]\n",
    "\n",
    "    def run_full_process(self, test_image_path):\n",
    "        print(\"run_full_process started successfull\")\n",
    "        detected_emotion = self.predict_emotion_from_image(test_image_path)\n",
    "        if detected_emotion:\n",
    "            print(f\"\\nDetected Emotion: {detected_emotion.upper()}\")\n",
    "            playlist = self.music_recommender.recommend_songs(detected_emotion)\n",
    "            if not playlist.empty:\n",
    "                print(\"\\n--- 🎶 Here is your personalized playlist ---\")\n",
    "                print(playlist[['artist_name', 'title']])\n",
    "                print(\"------------------------------------------\")\n",
    "\n",
    "if __name__ == '__main__':\n",
    "    # Update this path with a real image file to test the system\n",
    "    TEST_IMAGE_PATH = 'E:/Infosys Springboard Project/Emotion Detection and Music Recommendation System/data/fer2013/test/sad/PrivateTest_366361.jpg' \n",
    "\n",
    "    app = MoodMateApp(MODEL_PATH, MUSIC_DATA_PATH)\n",
    "    app.run_full_process(TEST_IMAGE_PATH)"
   ]
  },
  {
   "cell_type": "code",
   "execution_count": null,
   "id": "aab5fa54-4965-4890-9db0-898d844e1169",
   "metadata": {},
   "outputs": [],
   "source": []
  },
  {
   "cell_type": "code",
   "execution_count": null,
   "id": "88c7b8b7-a16f-451e-8822-63587704c850",
   "metadata": {},
   "outputs": [],
   "source": []
  }
 ],
 "metadata": {
  "kernelspec": {
   "display_name": "Python 3 (ipykernel)",
   "language": "python",
   "name": "python3"
  },
  "language_info": {
   "codemirror_mode": {
    "name": "ipython",
    "version": 3
   },
   "file_extension": ".py",
   "mimetype": "text/x-python",
   "name": "python",
   "nbconvert_exporter": "python",
   "pygments_lexer": "ipython3",
   "version": "3.13.3"
  }
 },
 "nbformat": 4,
 "nbformat_minor": 5
}
