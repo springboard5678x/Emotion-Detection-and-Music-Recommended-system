{
  "nbformat": 4,
  "nbformat_minor": 0,
  "metadata": {
    "colab": {
      "provenance": []
    },
    "kernelspec": {
      "name": "python3",
      "display_name": "Python 3"
    },
    "language_info": {
      "name": "python"
    }
  },
  "cells": [
    {
      "cell_type": "code",
      "execution_count": null,
      "metadata": {
        "colab": {
          "base_uri": "https://localhost:8080/"
        },
        "id": "lJLlulZgrBlj",
        "outputId": "179bbebc-c66f-4a84-eb35-b45cb636bf96"
      },
      "outputs": [
        {
          "output_type": "stream",
          "name": "stdout",
          "text": [
            "Mounted at /content/drive\n"
          ]
        }
      ],
      "source": [
        "from google.colab import drive\n",
        "drive.mount('/content/drive')"
      ]
    },
    {
      "cell_type": "code",
      "source": [
        "import zipfile\n",
        "import os\n",
        "\n",
        "zip_path = \"/content/drive/MyDrive/Moodify/Moodify.zip\"\n",
        "extract_path = \"/content/drive/MyDrive/Moodify/278k_dataset\"\n",
        "\n",
        "with zipfile.ZipFile(zip_path, 'r') as zip_ref:\n",
        "    zip_ref.extractall(extract_path)\n",
        "\n",
        "print(\"Files in extracted folder:\", os.listdir(extract_path))\n"
      ],
      "metadata": {
        "colab": {
          "base_uri": "https://localhost:8080/"
        },
        "id": "TxqCWJT1rMUS",
        "outputId": "06b1c021-7b5d-49e9-b143-756228a7c3a6"
      },
      "execution_count": null,
      "outputs": [
        {
          "output_type": "stream",
          "name": "stdout",
          "text": [
            "Files in extracted folder: ['278k_labelled_uri.csv', '278k_song_labelled.csv']\n"
          ]
        }
      ]
    },
    {
      "cell_type": "code",
      "source": [
        "import pandas as pd\n",
        "import os\n",
        "\n",
        "extract_path = \"/content/drive/MyDrive/Moodify/278k_dataset\"\n",
        "\n",
        "# Load URI dataset\n",
        "uri_df = pd.read_csv(os.path.join(extract_path, \"278k_labelled_uri.csv\"))\n",
        "\n",
        "# Load song metadata dataset (if needed)\n",
        "song_df = pd.read_csv(os.path.join(extract_path, \"278k_song_labelled.csv\"))\n"
      ],
      "metadata": {
        "id": "EXjlLzidr6-J"
      },
      "execution_count": null,
      "outputs": []
    },
    {
      "cell_type": "code",
      "source": [
        "print(\"URI DF columns:\", uri_df.columns)\n",
        "print(\"Song DF columns:\", song_df.columns)"
      ],
      "metadata": {
        "colab": {
          "base_uri": "https://localhost:8080/"
        },
        "id": "pJrRVI-GsgyV",
        "outputId": "696c0833-b99a-43bb-c4ed-ed46b466f4cf"
      },
      "execution_count": null,
      "outputs": [
        {
          "output_type": "stream",
          "name": "stdout",
          "text": [
            "URI DF columns: Index(['Unnamed: 0.1', 'Unnamed: 0', 'duration (ms)', 'danceability', 'energy',\n",
            "       'loudness', 'speechiness', 'acousticness', 'instrumentalness',\n",
            "       'liveness', 'valence', 'tempo', 'spec_rate', 'labels', 'uri'],\n",
            "      dtype='object')\n",
            "Song DF columns: Index(['Unnamed: 0', 'duration (ms)', 'danceability', 'energy', 'loudness',\n",
            "       'speechiness', 'acousticness', 'instrumentalness', 'liveness',\n",
            "       'valence', 'tempo', 'spec_rate', 'labels'],\n",
            "      dtype='object')\n"
          ]
        }
      ]
    },
    {
      "cell_type": "code",
      "source": [
        "print(\"URI DF shape:\", uri_df.shape)\n",
        "print(\"Song DF shape:\", song_df.shape)"
      ],
      "metadata": {
        "colab": {
          "base_uri": "https://localhost:8080/"
        },
        "id": "gf5tsHT2tHJ7",
        "outputId": "18785be3-9eaa-4774-9849-84ed6cc43268"
      },
      "execution_count": null,
      "outputs": [
        {
          "output_type": "stream",
          "name": "stdout",
          "text": [
            "URI DF shape: (277938, 15)\n",
            "Song DF shape: (277938, 13)\n"
          ]
        }
      ]
    },
    {
      "cell_type": "code",
      "source": [
        "# URI dataset\n",
        "print(\"URI DF label counts:\")\n",
        "print(uri_df['labels'].value_counts())\n",
        "\n",
        "# Song dataset\n",
        "print(\"\\nSong DF label counts:\")\n",
        "print(song_df['labels'].value_counts())\n",
        "\n"
      ],
      "metadata": {
        "colab": {
          "base_uri": "https://localhost:8080/"
        },
        "id": "nKzePLoZtMhh",
        "outputId": "b37f3667-bb10-479a-ab0d-7938059834b5"
      },
      "execution_count": null,
      "outputs": [
        {
          "output_type": "stream",
          "name": "stdout",
          "text": [
            "URI DF label counts:\n",
            "labels\n",
            "1    106429\n",
            "0     82058\n",
            "2     47065\n",
            "3     42386\n",
            "Name: count, dtype: int64\n",
            "\n",
            "Song DF label counts:\n",
            "labels\n",
            "1    106429\n",
            "0     82058\n",
            "2     47065\n",
            "3     42386\n",
            "Name: count, dtype: int64\n"
          ]
        }
      ]
    },
    {
      "cell_type": "code",
      "source": [
        "moodify_label_map = {\n",
        "    0: \"sad\",\n",
        "    1: \"happy\",\n",
        "    2: \"angry\",   # energetic → angry\n",
        "    3: \"calm\"\n",
        "}"
      ],
      "metadata": {
        "id": "eRfhilbbvbt4"
      },
      "execution_count": null,
      "outputs": []
    },
    {
      "cell_type": "code",
      "source": [
        "uri_df['mood'] = uri_df['labels'].map(moodify_label_map)\n",
        "print(\"\\nMood distribution:\\n\", uri_df['mood'].value_counts())"
      ],
      "metadata": {
        "colab": {
          "base_uri": "https://localhost:8080/"
        },
        "id": "ClK4471JwWgq",
        "outputId": "fde7ebe3-f680-4ef2-f5fa-c1a13c1d75b7"
      },
      "execution_count": null,
      "outputs": [
        {
          "output_type": "stream",
          "name": "stdout",
          "text": [
            "\n",
            "Mood distribution:\n",
            " mood\n",
            "happy    106429\n",
            "sad       82058\n",
            "angry     47065\n",
            "calm      42386\n",
            "Name: count, dtype: int64\n"
          ]
        }
      ]
    },
    {
      "cell_type": "code",
      "source": [
        "print(\"\\nMissing values:\\n\", uri_df.isnull().sum())\n",
        "print(\"Duplicates before drop:\", uri_df.duplicated().sum())"
      ],
      "metadata": {
        "colab": {
          "base_uri": "https://localhost:8080/"
        },
        "id": "cqyS1swgwZUF",
        "outputId": "60dfa5ff-6d2c-4186-92d0-3704b541052d"
      },
      "execution_count": null,
      "outputs": [
        {
          "output_type": "stream",
          "name": "stdout",
          "text": [
            "\n",
            "Missing values:\n",
            " Unnamed: 0.1        0\n",
            "Unnamed: 0          0\n",
            "duration (ms)       0\n",
            "danceability        0\n",
            "energy              0\n",
            "loudness            0\n",
            "speechiness         0\n",
            "acousticness        0\n",
            "instrumentalness    0\n",
            "liveness            0\n",
            "valence             0\n",
            "tempo               0\n",
            "spec_rate           0\n",
            "labels              0\n",
            "uri                 0\n",
            "mood                0\n",
            "dtype: int64\n",
            "Duplicates before drop: 0\n"
          ]
        }
      ]
    },
    {
      "cell_type": "code",
      "source": [
        "pip install spotipy"
      ],
      "metadata": {
        "colab": {
          "base_uri": "https://localhost:8080/"
        },
        "id": "24mtFHLXxY2u",
        "outputId": "c3daf2c9-0f05-4947-fde5-567f9cafcc6a"
      },
      "execution_count": null,
      "outputs": [
        {
          "output_type": "stream",
          "name": "stdout",
          "text": [
            "Collecting spotipy\n",
            "  Downloading spotipy-2.25.1-py3-none-any.whl.metadata (5.1 kB)\n",
            "Collecting redis>=3.5.3 (from spotipy)\n",
            "  Downloading redis-6.4.0-py3-none-any.whl.metadata (10 kB)\n",
            "Requirement already satisfied: requests>=2.25.0 in /usr/local/lib/python3.12/dist-packages (from spotipy) (2.32.4)\n",
            "Requirement already satisfied: urllib3>=1.26.0 in /usr/local/lib/python3.12/dist-packages (from spotipy) (2.5.0)\n",
            "Requirement already satisfied: charset_normalizer<4,>=2 in /usr/local/lib/python3.12/dist-packages (from requests>=2.25.0->spotipy) (3.4.3)\n",
            "Requirement already satisfied: idna<4,>=2.5 in /usr/local/lib/python3.12/dist-packages (from requests>=2.25.0->spotipy) (3.10)\n",
            "Requirement already satisfied: certifi>=2017.4.17 in /usr/local/lib/python3.12/dist-packages (from requests>=2.25.0->spotipy) (2025.8.3)\n",
            "Downloading spotipy-2.25.1-py3-none-any.whl (31 kB)\n",
            "Downloading redis-6.4.0-py3-none-any.whl (279 kB)\n",
            "\u001b[2K   \u001b[90m━━━━━━━━━━━━━━━━━━━━━━━━━━━━━━━━━━━━━━━━\u001b[0m \u001b[32m279.8/279.8 kB\u001b[0m \u001b[31m7.2 MB/s\u001b[0m eta \u001b[36m0:00:00\u001b[0m\n",
            "\u001b[?25hInstalling collected packages: redis, spotipy\n",
            "Successfully installed redis-6.4.0 spotipy-2.25.1\n"
          ]
        }
      ]
    },
    {
      "cell_type": "code",
      "source": [
        "import pandas as pd\n",
        "from spotipy.oauth2 import SpotifyClientCredentials\n",
        "import spotipy\n",
        "import time  # optional, to avoid hitting rate limits"
      ],
      "metadata": {
        "id": "OkrK3s8nwsS_"
      },
      "execution_count": null,
      "outputs": []
    },
    {
      "cell_type": "code",
      "source": [
        "client_id = \"90196bf080544bc8b1a40a989b291c03\"\n",
        "client_secret = \"552a5d1183654a6f9f1cb33bee715199\"\n"
      ],
      "metadata": {
        "id": "JJuiWoTqxW8F"
      },
      "execution_count": null,
      "outputs": []
    },
    {
      "cell_type": "code",
      "source": [
        "auth_manager = SpotifyClientCredentials(client_id=client_id, client_secret=client_secret)\n",
        "sp = spotipy.Spotify(auth_manager=auth_manager)\n"
      ],
      "metadata": {
        "id": "dOqDtKTNxnzT"
      },
      "execution_count": null,
      "outputs": []
    },
    {
      "cell_type": "code",
      "source": [
        "def get_song_info(uri):\n",
        "    try:\n",
        "        track = sp.track(uri)\n",
        "        return {\n",
        "            'name': track['name'],\n",
        "            'artist': track['artists'][0]['name'],\n",
        "            'album': track['album']['name'],\n",
        "            'url': track['external_urls']['spotify']\n",
        "        }\n",
        "    except Exception as e:\n",
        "        # If URI is invalid or track not found\n",
        "        return {'name': None, 'artist': None, 'album': None, 'url': None}\n"
      ],
      "metadata": {
        "id": "SSf8e6M1xqcL"
      },
      "execution_count": null,
      "outputs": []
    },
    {
      "cell_type": "code",
      "source": [
        "# Preprocessed dataset (lightweight)\n",
        "final_df = uri_df[['uri', 'mood']]\n",
        "final_df.to_csv(\"moodify_light.csv\", index=False)\n",
        "\n",
        "# Later, when predicting for one song:\n",
        "def fetch_song_details(uri):\n",
        "    try:\n",
        "        track = sp.track(uri)\n",
        "        return {\n",
        "            'name': track['name'],\n",
        "            'artist': track['artists'][0]['name'],\n",
        "            'album': track['album']['name'],\n",
        "            'url': track['external_urls']['spotify']\n",
        "        }\n",
        "    except Exception:\n",
        "        return None\n",
        "\n",
        "# Example prediction\n",
        "sample_uri = final_df['uri'].iloc[0]\n",
        "song_info = fetch_song_details(sample_uri)\n",
        "print(song_info)\n"
      ],
      "metadata": {
        "colab": {
          "base_uri": "https://localhost:8080/"
        },
        "id": "_C4EQ3vuyeJF",
        "outputId": "1e673b63-d341-49b8-899a-9516dd70687a"
      },
      "execution_count": null,
      "outputs": [
        {
          "output_type": "stream",
          "name": "stdout",
          "text": [
            "{'name': 'Way Up (feat. Ava Re)', 'artist': 'Floduxe', 'album': 'Way Up (feat. Ava Re)', 'url': 'https://open.spotify.com/track/3v6sBj3swihU8pXQQHhDZo'}\n"
          ]
        }
      ]
    },
    {
      "cell_type": "code",
      "source": [
        "sample_uri2 = final_df['uri'].iloc[5]  # pick 6th song in dataset\n",
        "song_info2 = fetch_song_details(sample_uri2)\n",
        "print(\"Example 2:\", song_info2)"
      ],
      "metadata": {
        "colab": {
          "base_uri": "https://localhost:8080/"
        },
        "id": "ns3Am0Lay_XP",
        "outputId": "16c8cfb4-2fb6-4e4c-b145-3c2a73788b53"
      },
      "execution_count": null,
      "outputs": [
        {
          "output_type": "stream",
          "name": "stdout",
          "text": [
            "Example 2: {'name': 'The Safety Dance - Video Version', 'artist': 'Men Without Hats', 'album': 'Rhythm of Youth', 'url': 'https://open.spotify.com/track/41MOCUNOgWtaYBFUsGnpZ5'}\n"
          ]
        }
      ]
    },
    {
      "cell_type": "code",
      "source": [],
      "metadata": {
        "id": "LujyooSkzaa2"
      },
      "execution_count": null,
      "outputs": []
    }
  ]
}